{
 "cells": [
  {
   "cell_type": "markdown",
   "metadata": {},
   "source": [
    "# Segundo Tech Challenge: Algoritmo Genético para Alocação de Enfermeiras em Turnos\n",
    "**Aluno:** Vinícius Oliveira Litran Andrade."
   ]
  },
  {
   "cell_type": "markdown",
   "metadata": {},
   "source": [
    "## Definição do Problema: Alocação de Enfermeiras em Turnos\n",
    "\n",
    "O problema central é a otimização da alocação de enfermeiras em turnos de trabalho ao longo de um período de tempo, considerando várias restrições e preferências. O objetivo é criar um cronograma que minimize conflitos e maximize a satisfação das enfermeiras, respeitando as limitações de carga de trabalho e as preferências individuais.\n",
    "\n",
    "### Restrições e Preferências\n",
    "\n",
    "* **Número de Enfermeiras e Turnos:** O código lida com um número fixo de enfermeiras e turnos por dia.\n",
    "* **Limite de Turnos Semanais:** Há um limite máximo de turnos que cada enfermeira pode trabalhar por semana.\n",
    "* **Preferências de Turno:** Cada enfermeira tem preferências por determinados turnos.\n",
    "* **Disponibilidade:** As enfermeiras podem ter dias de indisponibilidade.\n",
    "* **Dias e Turnos Consecutivos:** Há limites para o número de dias e turnos consecutivos que uma enfermeira pode trabalhar.\n",
    "* **Equilíbrio na Carga de Trabalho:** A carga de trabalho deve ser distribuída de forma equilibrada entre as enfermeiras.\n",
    "\n",
    "### Objetivos\n",
    "\n",
    "1.  **Maximizar o Custo da Solução:** O algoritmo busca maximizar uma função de aptidão que penaliza a violação de restrições e recompensa o atendimento de preferências.\n",
    "2.  **Respeitar as Restrições:** O cronograma gerado deve respeitar todas as restrições de carga de trabalho e disponibilidade.\n",
    "3.  **Atender às Preferências:** O cronograma deve tentar atender às preferências de turno das enfermeiras.\n",
    "4.  **Encontrar uma Solução Ótima ou Próxima do Ótimo:** O algoritmo genético busca encontrar a melhor solução possível dentro de um tempo razoável.\n",
    "\n",
    "### Critérios de Sucesso\n",
    "\n",
    "1.  **Aptidão da Melhor Solução:** A aptidão da melhor solução encontrada pelo algoritmo genético é um critério chave. Quanto maior a aptidão, melhor a solução.\n",
    "2.  **Respeito às Restrições:** O cronograma gerado deve violar o mínimo possível de restrições.\n",
    "3.  **Atendimento às Preferências:** O cronograma deve atender o máximo possível das preferências das enfermeiras.\n",
    "4.  **Tempo de Execução:** O tempo que o algoritmo leva para encontrar uma solução é um critério importante. Idealmente, o algoritmo deve encontrar uma boa solução em um tempo razoável.\n",
    "5.  **Equilíbrio na Carga de Trabalho:** A carga de trabalho deve ser distribuída de forma equilibrada entre as enfermeiras.\n",
    "6.  **Convergência do Algoritmo:** O algoritmo deve convergir para uma solução estável após um número razoável de gerações.\n",
    "7.  **Comparação com Força Bruta:** A comparação com um algoritmo de força bruta (se viável) pode ajudar a avaliar a qualidade da solução encontrada pelo algoritmo genético.\n"
   ]
  },
  {
   "cell_type": "markdown",
   "metadata": {},
   "source": [
    "## Importação das bibliotecas"
   ]
  },
  {
   "cell_type": "code",
   "execution_count": null,
   "metadata": {},
   "outputs": [],
   "source": [
    "import random\n",
    "import numpy as np\n",
    "import matplotlib.pyplot as plt\n",
    "import itertools\n",
    "import time"
   ]
  },
  {
   "cell_type": "markdown",
   "metadata": {},
   "source": [
    "### 1. Definição dos Parâmetros do Problema\n",
    "### Configurações do problema de alocação de enfermeiras em turnos."
   ]
  },
  {
   "cell_type": "code",
   "execution_count": null,
   "metadata": {},
   "outputs": [],
   "source": [
    "N_ENFERMEIRAS = 4  # Número total de enfermeiras disponíveis.\n",
    "N_TURNOS = 3  # Número de turnos por dia (ex: manhã, tarde, noite).\n",
    "MAX_TURNOS_SEMANAIS = 5  # Limite máximo de turnos que uma enfermeira pode trabalhar por semana.\n",
    "N_DIAS = 31  # Número total de dias no período de alocação.\n",
    "N_CONVERGENCIA = min(20, N_DIAS)  # Número de gerações sem melhoria para considerar convergência.\n",
    "POPULATION_SIZE = min(1000, 100 * N_DIAS + 10 * N_ENFERMEIRAS + 50 * N_TURNOS)  # Tamanho da população do algoritmo genético. \n",
    "TOURNAMENT_SIZE = max(2, int(0.02 * POPULATION_SIZE))  # Tamanho do torneio para seleção de pais."
   ]
  },
  {
   "cell_type": "markdown",
   "metadata": {},
   "source": [
    "### 2. Geração das Requisições de Turno\n",
    "# \n",
    "### As enfermeiras têm preferências aleatórias e um limite máximo de turnos que podem trabalhar."
   ]
  },
  {
   "cell_type": "code",
   "execution_count": null,
   "metadata": {},
   "outputs": [],
   "source": [
    "def gerar_requisicoes_turnos(n_enfermeiras, n_dias, n_turnos):\n",
    "    \"\"\"Gera requisições de turnos realistas para as enfermeiras.\"\"\"\n",
    "\n",
    "    requisicoes = []  # Inicializa a lista que armazenará as requisições de turnos para cada enfermeira\n",
    "    for enfermeira in range(n_enfermeiras):  # Loop para cada enfermeira\n",
    "        preferencia_turno = random.randint(0, n_turnos - 1)  # Define um turno preferido aleatório para a enfermeira\n",
    "        dias_consecutivos_max = random.randint(3, 5)  # Define um número máximo aleatório de dias consecutivos que a enfermeira gostaria de trabalhar, nesse caso entre 3 a 5\n",
    "        turnos_consecutivos_max = 2  # Define um número máximo de turnos consecutivos que a enfermeira gostaria de trabalhar\n",
    "        disponibilidade = [random.random() > 0.1 for _ in range(n_dias)]  # Gera uma lista booleana indicando a disponibilidade da enfermeira em cada dia (10% de chance de indisponibilidade)\n",
    "        intensidade_requisicoes = random.uniform(0.5, 1.0)  # Define a intensidade das requisições da enfermeira (probabilidade de requisitar um turno)\n",
    "\n",
    "        enfermeira_requisicoes = []  # Inicializa a lista que armazenará as requisições de turnos para a enfermeira atual\n",
    "        dias_trabalhados = 0  # Inicializa o contador de dias consecutivos trabalhados\n",
    "        turnos_trabalhados = 0  # Inicializa o contador de turnos consecutivos trabalhados\n",
    "\n",
    "        for dia in range(n_dias):  # Loop para cada dia\n",
    "            if disponibilidade[dia] and dias_trabalhados < dias_consecutivos_max:  # Verifica se a enfermeira está disponível e se não excedeu o limite de dias consecutivos\n",
    "                turnos = [0] * n_turnos  # Inicializa a lista de turnos para o dia com zeros (nenhum turno requisitado)\n",
    "                if random.random() < intensidade_requisicoes and turnos_trabalhados < turnos_consecutivos_max:  # Verifica se a enfermeira requisita um turno e se não excedeu o limite de turnos consecutivos\n",
    "                    # Aplica preferência de turno com alguma aleatoriedade\n",
    "                    turno_requerido = random.choice([preferencia_turno, random.randint(0, n_turnos - 1)])  # Escolhe o turno requisitado (preferido ou aleatório)\n",
    "                    turnos[turno_requerido] = 1  # Marca o turno requisitado com 1\n",
    "                    dias_trabalhados += 1  # Incrementa o contador de dias consecutivos trabalhados\n",
    "                    turnos_trabalhados += 1  # Incrementa o contador de turnos consecutivos trabalhados\n",
    "                else:\n",
    "                    turnos_trabalhados = 0  # Reseta o contador de turnos consecutivos se não houver requisição\n",
    "                enfermeira_requisicoes.append(turnos)  # Adiciona a lista de turnos do dia às requisições da enfermeira\n",
    "            else:\n",
    "                enfermeira_requisicoes.append([0] * n_turnos)  # Adiciona uma lista de zeros (nenhum turno requisitado) se a enfermeira estiver indisponível ou exceder o limite de dias consecutivos\n",
    "                dias_trabalhados = 0  # Reseta o contador de dias consecutivos se a enfermeira estiver indisponível\n",
    "                turnos_trabalhados = 0 # reseta o contador de turnos consecutivos\n",
    "\n",
    "        requisicoes.append(enfermeira_requisicoes)  # Adiciona as requisições da enfermeira à lista de requisições\n",
    "    return requisicoes"
   ]
  },
  {
   "cell_type": "code",
   "execution_count": null,
   "metadata": {},
   "outputs": [],
   "source": [
    "requisicoes_turnos = gerar_requisicoes_turnos(N_ENFERMEIRAS, N_DIAS, N_TURNOS)\n",
    "print(requisicoes_turnos)"
   ]
  },
  {
   "cell_type": "markdown",
   "metadata": {},
   "source": [
    "### 3. Estratégias de Inicialização\n",
    "# \n",
    "- Solução Inicial Aleatória: Gera soluções aleatórias.\n",
    "- Solução Hotstart Baseada em Requisições: Gera soluções que atendem às requisições das enfermeiras.\n",
    "- Solução Hotstart Balanceada: Gera soluções que balanceiam a carga de trabalho.\n",
    "- Solução Hotstart com Ordem Sequencial: Gera soluções com ordem sequencial.\n",
    "- População Inicial Diversificada: Combina as estratégias anteriores para criar uma população diversificada."
   ]
  },
  {
   "cell_type": "code",
   "execution_count": null,
   "metadata": {},
   "outputs": [],
   "source": [
    "def criar_solucao_inicial(n_enfermeiras, n_dias, n_turnos):\n",
    "    \"\"\"Gera uma solução inicial aleatória.\"\"\"\n",
    "    \n",
    "    return np.random.randint(0, n_enfermeiras, size=(n_dias, n_turnos)).tolist()"
   ]
  },
  {
   "cell_type": "markdown",
   "metadata": {},
   "source": [
    "#### Representação do Cromossomo:\n",
    "\n",
    "- Cada solução (cromossomo) representa um cronograma de alocação de enfermeiras.\n",
    "- A solução é representada como uma matriz bidimensional, onde as linhas representam os dias, as colunas representam os turnos e os elementos da matriz são as enfermeiras.\n"
   ]
  },
  {
   "cell_type": "code",
   "execution_count": null,
   "metadata": {},
   "outputs": [],
   "source": [
    "criar_solucao_inicial(N_ENFERMEIRAS, N_DIAS, N_TURNOS)"
   ]
  },
  {
   "cell_type": "code",
   "execution_count": null,
   "metadata": {},
   "outputs": [],
   "source": [
    "def criar_solucao_hotstart(requisicoes, n_enfermeiras, n_dias, n_turnos):\n",
    "    \"\"\"Gera solução inicial baseada nas requisições.\"\"\"\n",
    "    \n",
    "    solucao = np.full((n_dias, n_turnos), -1)  # Inicializa uma matriz com -1, representando turnos não atribuídos\n",
    "    for dia in range(n_dias):  # Loop para cada dia\n",
    "        for turno in range(n_turnos):  # Loop para cada turno do dia\n",
    "            enfermeiras_possiveis = [e for e in range(n_enfermeiras) if requisicoes[e][dia][turno] == 1]  # Lista de enfermeiras que requisitaram o turno\n",
    "            solucao[dia, turno] = np.random.choice(enfermeiras_possiveis) if enfermeiras_possiveis else np.random.randint(0, n_enfermeiras)  # Atribui uma enfermeira ao turno\n",
    "    return solucao.tolist()  # Retorna a solução como uma lista de listas"
   ]
  },
  {
   "cell_type": "code",
   "execution_count": null,
   "metadata": {},
   "outputs": [],
   "source": [
    "criar_solucao_hotstart(requisicoes_turnos, N_ENFERMEIRAS, N_DIAS, N_TURNOS)"
   ]
  },
  {
   "cell_type": "code",
   "execution_count": null,
   "metadata": {},
   "outputs": [],
   "source": [
    "def criar_solucao_hotstart_balanceada(n_enfermeiras, n_dias, n_turnos):\n",
    "    \"\"\"Gera uma solução inicial priorizando o balanceamento de turnos entre as enfermeiras usando NumPy.\"\"\"\n",
    "    \n",
    "    solucao = np.zeros((n_dias, n_turnos), dtype=int)  # Inicializa uma matriz de solução com zeros\n",
    "    turnos_enfermeiras = np.zeros(n_enfermeiras, dtype=int)  # Inicializa um array para contar os turnos atribuídos a cada enfermeira\n",
    "    for dia in range(n_dias):  # Loop para cada dia\n",
    "        for turno in range(n_turnos):  # Loop para cada turno do dia\n",
    "            enfermeiras_possiveis = np.argsort(turnos_enfermeiras)  # Ordena as enfermeiras pelo número de turnos atribuídos\n",
    "            enfermeira_escolhida = np.random.choice(enfermeiras_possiveis[:2])  # Escolhe aleatoriamente uma das 2 enfermeiras com menos turnos\n",
    "            solucao[dia, turno] = enfermeira_escolhida  # Atribui a enfermeira escolhida ao turno\n",
    "            turnos_enfermeiras[enfermeira_escolhida] += 1  # Incrementa o contador de turnos da enfermeira escolhida\n",
    "    return solucao.tolist()  # Retorna a solução como uma lista de listas"
   ]
  },
  {
   "cell_type": "code",
   "execution_count": null,
   "metadata": {},
   "outputs": [],
   "source": [
    "criar_solucao_hotstart_balanceada(N_ENFERMEIRAS, N_DIAS, N_TURNOS)"
   ]
  },
  {
   "cell_type": "code",
   "execution_count": null,
   "metadata": {},
   "outputs": [],
   "source": [
    "def hotstart_ordem_enfermeiras_com_dias(n_enfermeiras, n_dias, n_turnos):\n",
    "    \"\"\"Gera uma solução inicial (hotstart) em que as enfermeiras são alocadas de forma sequencial nos turnos de cada dia, considerando a quantidade de dias e turnos. \"\"\"\n",
    "\n",
    "    # Inicializa a alocação com -1 (sem turno atribuído)\n",
    "    alocacao = np.full((n_dias, n_turnos), -1)\n",
    "\n",
    "    # A cada dia, vamos atribuindo os turnos para as enfermeiras, seguindo uma ordem sequencial\n",
    "    enfermeira_atual = 0\n",
    "\n",
    "    for dia in range(n_dias):\n",
    "        for turno in range(n_turnos):\n",
    "            alocacao[dia, turno] = enfermeira_atual\n",
    "            enfermeira_atual = (enfermeira_atual + 1) % n_enfermeiras  # Passa para a próxima enfermeira (circular)\n",
    "\n",
    "    return alocacao.tolist()"
   ]
  },
  {
   "cell_type": "code",
   "execution_count": null,
   "metadata": {},
   "outputs": [],
   "source": [
    "hotstart_ordem_enfermeiras_com_dias(N_ENFERMEIRAS, N_DIAS, N_TURNOS)"
   ]
  },
  {
   "cell_type": "code",
   "execution_count": null,
   "metadata": {},
   "outputs": [],
   "source": [
    "def criar_populacao_inicial(tamanho_populacao, n_enfermeiras, n_dias, n_turnos, requisicoes_turnos):\n",
    "    \"\"\"Cria a população inicial com diversidade, incluindo soluções hotstart.\"\"\"\n",
    "\n",
    "    num_hotstart = int(tamanho_populacao * 0.1) # Define o tamanho das soluções hotstart a serem geradas\n",
    "    num_hotstart_ordem = 1  # Define o número de soluções hotstart com ordem sequencial a serem geradas\n",
    "    populacao = []  # Inicializa a lista que armazenará a população inicial\n",
    "\n",
    "    # Adiciona soluções hotstart baseadas em requisições\n",
    "    for _ in range(num_hotstart):\n",
    "        populacao.append(criar_solucao_hotstart(requisicoes_turnos, n_enfermeiras, n_dias, n_turnos))\n",
    "\n",
    "    # Adiciona soluções hotstart balanceadas\n",
    "    for _ in range(num_hotstart):\n",
    "        populacao.append(criar_solucao_hotstart_balanceada(n_enfermeiras, n_dias, n_turnos))\n",
    "\n",
    "    # Adiciona soluções hotstart com ordem sequencial\n",
    "    for _ in range(num_hotstart_ordem):\n",
    "        populacao.append(hotstart_ordem_enfermeiras_com_dias(n_enfermeiras, n_dias, n_turnos))\n",
    "\n",
    "    # Completa o restante da população com soluções aleatórias\n",
    "    for _ in range(tamanho_populacao - 2 * num_hotstart - num_hotstart_ordem):\n",
    "        populacao.append(criar_solucao_inicial(n_enfermeiras, n_dias, n_turnos))\n",
    "\n",
    "    return populacao"
   ]
  },
  {
   "cell_type": "code",
   "execution_count": null,
   "metadata": {},
   "outputs": [],
   "source": [
    "população_ex = criar_populacao_inicial(POPULATION_SIZE, N_ENFERMEIRAS, N_DIAS, N_TURNOS, requisicoes_turnos)\n",
    "print(população_ex)"
   ]
  },
  {
   "cell_type": "markdown",
   "metadata": {},
   "source": [
    "### 4. Função de Aptidão\n",
    "# \n",
    "### A função de aptidão avalia a qualidade de cada solução, considerando:\n",
    "- Penalidades por violação de restrições (excesso de turnos, turnos consecutivos).\n",
    "- Bonificações por atendimento de preferências de turno.\n",
    "- Penalização por desequilíbrio na carga de trabalho."
   ]
  },
  {
   "cell_type": "code",
   "execution_count": null,
   "metadata": {},
   "outputs": [],
   "source": [
    "def calcular_aptidao(solucao, requisicoes_turnos, n_enfermeiras, n_dias, n_turnos, max_turnos_semanais):\n",
    "    \"\"\"Calcula a aptidão de uma solução com otimizações eficientes usando NumPy.\"\"\"\n",
    "\n",
    "    solucao = np.array(solucao)  # Converte a solução para um array NumPy para operações eficientes\n",
    "    carga_trabalho = np.zeros(n_enfermeiras, dtype=int)  # Inicializa um array para contar a carga de trabalho de cada enfermeira\n",
    "    turnos_semanais = np.zeros((n_enfermeiras, n_dias // 7 + 1), dtype=int)  # Inicializa um array para contar os turnos semanais de cada enfermeira\n",
    "    turnos_por_enfermeira_por_dia = np.zeros((n_dias, n_enfermeiras), dtype=int)  # Inicializa um array para contar os turnos de cada enfermeira por dia\n",
    "\n",
    "    # Pré-cálculo dos turnos semanais\n",
    "    semana = np.arange(n_dias) // 7  # Calcula o número da semana para cada dia\n",
    "    for dia in range(n_dias):\n",
    "        for turno in range(n_turnos):\n",
    "            enfermeira = solucao[dia, turno]\n",
    "            if enfermeira >= 0:\n",
    "                turnos_semanais[enfermeira, semana[dia]] += 1  # Incrementa o contador de turnos semanais da enfermeira\n",
    "\n",
    "    # Pré-cálculo de turnos diários por enfermeira\n",
    "    for dia in range(n_dias):\n",
    "        enfermeiras_no_dia, contagem = np.unique(solucao[dia, solucao[dia] >= 0], return_counts=True)  # Conta os turnos de cada enfermeira no dia\n",
    "        turnos_por_enfermeira_por_dia[dia, enfermeiras_no_dia] = contagem  # Armazena a contagem dos turnos\n",
    "\n",
    "    # Cálculo da carga de trabalho\n",
    "    carga_trabalho = np.bincount(solucao[solucao >= 0].flatten(), minlength=n_enfermeiras)  # Conta o número total de turnos de cada enfermeira\n",
    "\n",
    "    # Penalização por excesso de turnos semanais\n",
    "    excesso_semanal = np.maximum(turnos_semanais - max_turnos_semanais, 0)  # Calcula o excesso de turnos semanais\n",
    "    penalidade_excesso = -3 * np.sum(excesso_semanal)  # Calcula a penalidade por excesso de turnos semanais\n",
    "\n",
    "    # Penalização incremental para turnos excedentes por enfermeira\n",
    "    turnos_excedentes = np.maximum(turnos_por_enfermeira_por_dia - 1, 0)  # Calcula o excesso de turnos por dia\n",
    "    penalidade_turnos = -np.sum(turnos_excedentes * 30)  # Calcula a penalidade por excesso de turnos por dia\n",
    "\n",
    "    # Bonificações por atendimento de requisições (otimizado com NumPy)\n",
    "    solucao_np = np.array(solucao)\n",
    "    requisicoes_np = np.array(requisicoes_turnos)\n",
    "\n",
    "    bonificacao_requisicoes = np.sum((solucao_np >= 0) & (requisicoes_np[solucao_np, np.arange(n_dias)[:, None], np.arange(n_turnos)] == 1))  # Calcula a bonificação por atendimento de requisições\n",
    "\n",
    "    # Penalização por turnos consecutivos (último turno do dia seguido do primeiro do próximo)\n",
    "    penalidade_consecutivos = np.sum((solucao[:-1, -1] >= 0) & (solucao[:-1, -1] == solucao[1:, 0]))  # Calcula a penalidade por turnos consecutivos\n",
    "    penalidade_turnos_dias_consecutivos_N_M = -50 * penalidade_consecutivos  # Calcula a penalidade por turnos consecutivos\n",
    "\n",
    "    # Penalização por desequilíbrio na carga de trabalho (usando variância)\n",
    "    penalidade_variancia = -10 * np.var(carga_trabalho)  # Calcula a penalidade por desequilíbrio na carga de trabalho\n",
    "\n",
    "    return penalidade_excesso + penalidade_turnos + bonificacao_requisicoes + penalidade_turnos_dias_consecutivos_N_M + penalidade_variancia  # Retorna a aptidão total"
   ]
  },
  {
   "cell_type": "code",
   "execution_count": null,
   "metadata": {},
   "outputs": [],
   "source": [
    "def calcular_aptidao_detalhada(solucao, requisicoes_turnos, n_enfermeiras, n_dias, n_turnos, max_turnos_semanais):\n",
    "    \"\"\"Calcula a aptidão de uma solução e imprime detalhadamente cada fator de pontuação.\"\"\"\n",
    "    \n",
    "    solucao = np.array(solucao)\n",
    "    carga_trabalho = np.zeros(n_enfermeiras, dtype=int)\n",
    "    turnos_semanais = np.zeros((n_enfermeiras, n_dias // 7 + 1), dtype=int)\n",
    "    turnos_por_enfermeira_por_dia = np.zeros((n_dias, n_enfermeiras), dtype=int)\n",
    "\n",
    "    # Cálculo dos turnos semanais\n",
    "    semana = np.arange(n_dias) // 7\n",
    "    for dia in range(n_dias):\n",
    "        for turno in range(n_turnos):\n",
    "            enfermeira = solucao[dia, turno]\n",
    "            if enfermeira >= 0:\n",
    "                turnos_semanais[enfermeira, semana[dia]] += 1\n",
    "\n",
    "    # Contagem de turnos diários por enfermeira\n",
    "    for dia in range(n_dias):\n",
    "        enfermeiras_no_dia, contagem = np.unique(solucao[dia, solucao[dia] >= 0], return_counts=True)\n",
    "        turnos_por_enfermeira_por_dia[dia, enfermeiras_no_dia] = contagem\n",
    "\n",
    "    # Cálculo da carga de trabalho\n",
    "    carga_trabalho = np.bincount(solucao[solucao >= 0].flatten(), minlength=n_enfermeiras)\n",
    "    \n",
    "    # Penalização por excesso de turnos semanais\n",
    "    excesso_semanal = np.maximum(turnos_semanais - max_turnos_semanais, 0)\n",
    "    penalidade_excesso_semanal = -3 * np.sum(excesso_semanal)\n",
    "    \n",
    "    # Penalização incremental para turnos excedentes por enfermeira\n",
    "    turnos_excedentes = np.maximum(turnos_por_enfermeira_por_dia - 1, 0)\n",
    "    penalidade_turnos_excedentes = -np.sum(turnos_excedentes * 30)\n",
    "    \n",
    "    # Bonificações por atendimento de requisições (otimizado com NumPy)\n",
    "    solucao_np = np.array(solucao)\n",
    "    requisicoes_np = np.array(requisicoes_turnos)\n",
    "    \n",
    "    bonificacao_requisicoes = np.sum((solucao_np >= 0) & (requisicoes_np[solucao_np, np.arange(n_dias)[:, None], np.arange(n_turnos)] == 1))\n",
    "    \n",
    "    # Penalização por turnos consecutivos\n",
    "    penalidade_consecutivos = -50 * np.sum((solucao[:-1, -1] >= 0) & (solucao[:-1, -1] == solucao[1:, 0]))\n",
    "    \n",
    "    # Penalização por desequilíbrio na carga de trabalho\n",
    "    penalidade_desequilibrio = -10 * np.var(carga_trabalho)\n",
    "    \n",
    "    # Cálculo da aptidão total\n",
    "    aptidao = (penalidade_excesso_semanal + penalidade_turnos_excedentes + bonificacao_requisicoes +\n",
    "               penalidade_consecutivos + penalidade_desequilibrio)\n",
    "    \n",
    "    # Impressão detalhada\n",
    "    print(\"\\n=== Detalhamento da Aptidão ===\")\n",
    "    print(f\"Penalização por excesso de turnos semanais: {penalidade_excesso_semanal}\")\n",
    "    print(f\"Penalização por turnos excedentes no mesmo dia: {penalidade_turnos_excedentes}\")\n",
    "    print(f\"Bonificação por atendimento de requisições: {bonificacao_requisicoes}\")\n",
    "    print(f\"Penalização por turnos consecutivos: {penalidade_consecutivos}\")\n",
    "    print(f\"Penalização por desequilíbrio na carga de trabalho: {penalidade_desequilibrio}\")\n",
    "    print(f\"Aptidão final: {aptidao}\")\n",
    "    print(\"=================================\\n\")\n",
    "    \n",
    "    return aptidao"
   ]
  },
  {
   "cell_type": "code",
   "execution_count": null,
   "metadata": {},
   "outputs": [],
   "source": [
    "teste_solu_aptidao = criar_solucao_inicial(N_ENFERMEIRAS, N_DIAS, N_TURNOS)\n",
    "print(teste_solu_aptidao)"
   ]
  },
  {
   "cell_type": "code",
   "execution_count": null,
   "metadata": {},
   "outputs": [],
   "source": [
    "calcular_aptidao(teste_solu_aptidao, requisicoes_turnos, N_ENFERMEIRAS, N_DIAS, N_TURNOS, MAX_TURNOS_SEMANAIS)"
   ]
  },
  {
   "cell_type": "code",
   "execution_count": null,
   "metadata": {},
   "outputs": [],
   "source": [
    "calcular_aptidao_detalhada(teste_solu_aptidao, requisicoes_turnos, N_ENFERMEIRAS, N_DIAS, N_TURNOS, MAX_TURNOS_SEMANAIS)"
   ]
  },
  {
   "cell_type": "markdown",
   "metadata": {},
   "source": [
    "### 5. Operadores Genéticos e geração de nova população\n",
    "# \n",
    "- Seleção por Torneio: Seleciona os pais para a próxima geração com base em sua aptidão em torneios.\n",
    "- Crossover de Ordem: Combina informações dos pais para gerar filhos, mantendo a ordem dos turnos.\n",
    "- Taxa de Mutação Adaptativa: Ajusta a taxa de mutação com base na aptidão da solução.\n",
    "- Mutação de Bloco: Aplica mutações a blocos de turnos na solução.\n",
    "- Geração de Nova População: Combina os operadores genéticos para criar uma nova população"
   ]
  },
  {
   "cell_type": "code",
   "execution_count": null,
   "metadata": {},
   "outputs": [],
   "source": [
    "def selecao_torneio(populacao, aptidoes, tamanho_torneio):\n",
    "    \"\"\"Seleciona um indivíduo da população usando seleção por torneio (vetorizado).\"\"\"\n",
    "\n",
    "    aptidoes = np.array(aptidoes)  # Garante que aptidoes seja um array NumPy\n",
    "    num_torneios = len(populacao) // 2   # Calcula o número de torneios (metade da população)+ 1\n",
    "    indices = np.random.choice(len(populacao), size=(num_torneios, tamanho_torneio))  # Escolhe índices aleatórios para o torneio\n",
    "    vencedores = np.argmax(aptidoes[indices], axis=1)  # Determina os vencedores do torneio\n",
    "    return np.array(populacao)[indices[np.arange(num_torneios), vencedores]]  # Retorna os indivíduos vencedores"
   ]
  },
  {
   "cell_type": "code",
   "execution_count": null,
   "metadata": {},
   "outputs": [],
   "source": [
    "aptidoes_ex = [calcular_aptidao(solucao, requisicoes_turnos, N_ENFERMEIRAS, N_DIAS, N_TURNOS, MAX_TURNOS_SEMANAIS) for solucao in população_ex]\n",
    "print(aptidoes_ex)"
   ]
  },
  {
   "cell_type": "code",
   "execution_count": null,
   "metadata": {},
   "outputs": [],
   "source": [
    "pais1_ex = selecao_torneio(população_ex, aptidoes_ex, TOURNAMENT_SIZE)\n",
    "pais2_ex = selecao_torneio(população_ex, aptidoes_ex, TOURNAMENT_SIZE)"
   ]
  },
  {
   "cell_type": "code",
   "execution_count": null,
   "metadata": {},
   "outputs": [],
   "source": [
    "pais1_ex"
   ]
  },
  {
   "cell_type": "code",
   "execution_count": null,
   "metadata": {},
   "outputs": [],
   "source": [
    "def crossover_ordem(pai1, pai2, n_dias, n_turnos, n_enfermeiras):\n",
    "    \"\"\"Crossover aprimorado que utiliza informações de ambos os pais.\"\"\"\n",
    "\n",
    "    pai1 = np.array(pai1)  # Converte o pai1 para um array NumPy para manipulação eficiente\n",
    "    pai2 = np.array(pai2)  # Converte o pai2 para um array NumPy para manipulação eficiente\n",
    "    inicio, fim = sorted(np.random.randint(0, n_dias, size=2))  # Gera dois pontos de corte aleatórios e os ordena\n",
    "    filho1 = np.zeros((n_dias, n_turnos), dtype=int) - 1  # Inicializa o filho1 com -1 (sem turnos atribuídos)\n",
    "    filho2 = np.zeros((n_dias, n_turnos), dtype=int) - 1  # Inicializa o filho2 com -1 (sem turnos atribuídos)\n",
    "    filho1[inicio:fim] = pai1[inicio:fim]  # Copia a seção do pai1 para o filho1\n",
    "    filho2[inicio:fim] = pai2[inicio:fim]  # Copia a seção do pai2 para o filho2\n",
    "\n",
    "    for dia in range(n_dias):  # Itera sobre os dias\n",
    "        if dia < inicio or dia >= fim:  # Verifica se o dia está fora da seção de crossover\n",
    "            for turno in range(n_turnos):  # Itera sobre os turnos do dia\n",
    "                if filho1[dia, turno] == -1:  # Verifica se o turno não está atribuído no filho1\n",
    "                    enfermeira_pai2 = pai2[dia, turno]  # Pega a enfermeira do pai2 para este turno\n",
    "                    if enfermeira_pai2 not in filho1[dia]:  # Verifica se a enfermeira não está já atribuída no filho1 neste dia\n",
    "                        filho1[dia, turno] = enfermeira_pai2  # Atribui a enfermeira do pai2 ao turno do filho1\n",
    "                    else:\n",
    "                        # Procura outra enfermeira válida (exemplo simples: próxima enfermeira)\n",
    "                        enfermeira_alternativa = (enfermeira_pai2 + 1) % n_enfermeiras  # Calcula a próxima enfermeira disponível\n",
    "                        while enfermeira_alternativa in filho1[dia]:  # Loop para encontrar uma enfermeira não usada\n",
    "                            enfermeira_alternativa = (enfermeira_alternativa + 1) % n_enfermeiras  # Avança para a próxima enfermeira\n",
    "                        filho1[dia, turno] = enfermeira_alternativa  # Atribui a enfermeira alternativa ao turno do filho1\n",
    "\n",
    "                if filho2[dia, turno] == -1:  # Repete o processo para o filho2, trocando os papéis dos pais\n",
    "                    enfermeira_pai1 = pai1[dia, turno]\n",
    "                    if enfermeira_pai1 not in filho2[dia]:\n",
    "                        filho2[dia, turno] = enfermeira_pai1\n",
    "                    else:\n",
    "                        enfermeira_alternativa = (enfermeira_pai1 + 1) % n_enfermeiras\n",
    "                        while enfermeira_alternativa in filho2[dia]:\n",
    "                            enfermeira_alternativa = (enfermeira_alternativa + 1) % n_enfermeiras\n",
    "                        filho2[dia, turno] = enfermeira_alternativa\n",
    "    return filho1.tolist(), filho2.tolist()  # Retorna os filhos como listas de listas"
   ]
  },
  {
   "cell_type": "code",
   "execution_count": null,
   "metadata": {},
   "outputs": [],
   "source": [
    "filho1_ex, filho2_ex = crossover_ordem(pais1_ex[0], pais2_ex[0], N_DIAS, N_TURNOS, N_ENFERMEIRAS)"
   ]
  },
  {
   "cell_type": "code",
   "execution_count": null,
   "metadata": {},
   "outputs": [],
   "source": [
    "print(pais1_ex[0])\n",
    "print(pais2_ex[0])"
   ]
  },
  {
   "cell_type": "code",
   "execution_count": null,
   "metadata": {},
   "outputs": [],
   "source": [
    "print(filho1_ex)\n",
    "print(filho2_ex)"
   ]
  },
  {
   "cell_type": "markdown",
   "metadata": {},
   "source": [
    "taxa_mutacao_base=0.05, intensidade_maxima=0.15"
   ]
  },
  {
   "cell_type": "code",
   "execution_count": null,
   "metadata": {},
   "outputs": [],
   "source": [
    "def taxa_mutacao_adaptativa(aptidao, aptidao_min, aptidao_max, taxa_mutacao_base=0.05, intensidade_maxima=0.15):\n",
    "    \"\"\"\n",
    "    Ajusta a taxa de mutação com base na aptidão da solução.\n",
    "    Soluções com aptidão menor têm taxas de mutação maiores.\n",
    "    \"\"\"\n",
    "    \n",
    "    if aptidao_max == aptidao_min:  # Verifica se a aptidão máxima é igual à mínima\n",
    "        return taxa_mutacao_base  # Retorna a taxa de mutação base para evitar divisão por zero\n",
    "\n",
    "    normalizado = (aptidao - aptidao_min) / (aptidao_max - aptidao_min)  # Normaliza a aptidão para o intervalo [0, 1]\n",
    "    intensidade = 1 - normalizado  # Calcula a intensidade da mutação (inverso da aptidão normalizada)\n",
    "    return taxa_mutacao_base + intensidade * (intensidade_maxima - taxa_mutacao_base)  # Calcula a taxa de mutação ajustada"
   ]
  },
  {
   "cell_type": "code",
   "execution_count": null,
   "metadata": {},
   "outputs": [],
   "source": [
    "def mutacao_bloco(solucao, taxa_mutacao, n_enfermeiras, n_dias, n_turnos):\n",
    "    \"\"\"Aplica mutação de bloco a uma solução usando NumPy.\"\"\"\n",
    "\n",
    "    tamanho_bloco = random.randint(0, n_turnos)  # Calcula um tamanho de bloco aleatório entre 0 e n_turnos\n",
    "    solucao_mutada = np.array(solucao).copy()  # Cria uma cópia da solução para evitar modificar a original\n",
    "    if random.random() < taxa_mutacao:  # Verifica se a mutação deve ocorrer com base na taxa de mutação\n",
    "        dia = random.randint(0, n_dias - 1)  # Seleciona um dia aleatório para mutação\n",
    "        inicio_bloco = random.randint(0, n_turnos - tamanho_bloco)  # Seleciona o início do bloco para mutação\n",
    "        fim_bloco = inicio_bloco + tamanho_bloco  # Calcula o fim do bloco para mutação\n",
    "        # Atribuindo valores válidos de enfermeiras\n",
    "        solucao_mutada[dia, inicio_bloco:fim_bloco] = np.random.randint(0, n_enfermeiras, size=tamanho_bloco)  # Atribui novas enfermeiras ao bloco\n",
    "    return solucao_mutada.tolist()  # Retorna a solução mutada como uma lista"
   ]
  },
  {
   "cell_type": "code",
   "execution_count": null,
   "metadata": {},
   "outputs": [],
   "source": [
    "mutacao_bloco(filho1_ex, 1,  N_ENFERMEIRAS, N_DIAS, N_TURNOS)"
   ]
  },
  {
   "cell_type": "code",
   "execution_count": null,
   "metadata": {},
   "outputs": [],
   "source": [
    "def gerar_nova_populacao(populacao, aptidoes, tamanho_populacao, tamanho_torneio, n_enfermeiras, n_dias,\n",
    "                         n_turnos, aptidao_min, aptidao_max, requisicoes_turnos):\n",
    "    \"\"\"Gera uma nova população aplicando seleção, crossover e mutação (vetorizado).\"\"\"\n",
    "    \n",
    "    nova_populacao = [max(zip(populacao, aptidoes), key=lambda x: x[1])[0]]  # Mantém o melhor indivíduo da população atual, elitismo\n",
    "    pais1 = selecao_torneio(populacao, aptidoes, tamanho_torneio)  # Seleciona pais usando seleção por torneio\n",
    "    pais2 = selecao_torneio(populacao, aptidoes, tamanho_torneio)  # Seleciona pais usando seleção por torneio\n",
    "    \n",
    "    # Correção: Adiciona n_enfermeiras na chamada de crossover_ordem\n",
    "    filhos1, filhos2 = zip(*[crossover_ordem(p1, p2, n_dias, n_turnos, n_enfermeiras) for p1, p2 in zip(pais1, pais2)])  # Aplica crossover aos pais\n",
    "    filhos1 = list(filhos1)  # Converte os filhos1 de tupla para lista\n",
    "    filhos2 = list(filhos2)  # Converte os filhos2 de tupla para lista\n",
    "    \n",
    "    taxas_mutacao1 = [taxa_mutacao_adaptativa(calcular_aptidao(filho, requisicoes_turnos, n_enfermeiras, n_dias, n_turnos, MAX_TURNOS_SEMANAIS), aptidao_min, aptidao_max) for filho in filhos1]  # Calcula taxas de mutação adaptativas para filhos1\n",
    "    taxas_mutacao2 = [taxa_mutacao_adaptativa(calcular_aptidao(filho, requisicoes_turnos, n_enfermeiras, n_dias, n_turnos, MAX_TURNOS_SEMANAIS), aptidao_min, aptidao_max) for filho in filhos2]  # Calcula taxas de mutação adaptativas para filhos2\n",
    "    \n",
    "    mutantes1 = [mutacao_bloco(filho, taxa_mutacao, n_enfermeiras, n_dias, n_turnos) for filho, taxa_mutacao in zip(filhos1, taxas_mutacao1)]  # Aplica mutação de bloco aos filhos1\n",
    "    mutantes2 = [mutacao_bloco(filho, taxa_mutacao, n_enfermeiras, n_dias, n_turnos) for filho, taxa_mutacao in zip(filhos2, taxas_mutacao2)]  # Aplica mutação de bloco aos filhos2\n",
    "\n",
    "    nova_populacao.extend(mutantes1)  # Adiciona mutantes1 à nova população\n",
    "    nova_populacao.extend(mutantes2)  # Adiciona mutantes2 à nova população\n",
    "    \n",
    "    return nova_populacao[:tamanho_populacao]  # Retorna a nova população, limitada ao tamanho desejado"
   ]
  },
  {
   "cell_type": "markdown",
   "metadata": {},
   "source": [
    "### 6. Execução do Algoritmo Genético\n",
    "# \n",
    "#### Mantém uma população evoluindo por várias gerações até parar de modificar o valor de apatidão por algumas gerações"
   ]
  },
  {
   "cell_type": "markdown",
   "metadata": {},
   "source": [
    "### Migração Dinâmica:\n",
    "\n",
    "Implementa uma estratégia de migração para evitar a convergência prematura do algoritmo.\n",
    "#\n",
    "Introduz novas soluções aleatórias na população após um certo número de gerações sem melhoria."
   ]
  },
  {
   "cell_type": "code",
   "execution_count": null,
   "metadata": {},
   "outputs": [],
   "source": [
    "def algoritmo_genetico(tamanho_populacao, n_convergencia, tamanho_torneio, n_enfermeiras, n_dias, n_turnos, max_turnos_semanais, requisicoes_turnos):\n",
    "    \"\"\"Executa o algoritmo genético com migração dinâmica.\"\"\"\n",
    "\n",
    "    tempo_inicial = time.time()  # Marca o tempo de início da execução\n",
    "    populacao = criar_populacao_inicial(tamanho_populacao, n_enfermeiras, n_dias, n_turnos, requisicoes_turnos)  # Cria a população inicial\n",
    "    melhor_aptidao_ate_agora = float('-inf')  # Inicializa a melhor aptidão encontrada até agora com um valor negativo infinito\n",
    "    contador_sem_melhora = 0  # Inicializa o contador de gerações sem melhora\n",
    "    geracao = 0  # Inicializa o contador de gerações\n",
    "    historico_aptidao = []  # Inicializa a lista para armazenar o histórico de aptidões\n",
    "    geracoes_sem_melhora_migracao = 0  # Inicializa o contador de gerações sem melhora para a migração\n",
    "    migracoes_realizadas = 0  # Inicializa o contador de migrações realizadas\n",
    "\n",
    "    while contador_sem_melhora < n_convergencia:  # Loop principal do algoritmo genético\n",
    "        aptidoes = [calcular_aptidao(solucao, requisicoes_turnos, n_enfermeiras, n_dias, n_turnos, max_turnos_semanais) for solucao in populacao]  # Calcula a aptidão de cada solução na população\n",
    "        melhor_solucao = max(zip(populacao, aptidoes), key=lambda x: x[1])[0]  # Encontra a melhor solução na população\n",
    "        melhor_aptidao = calcular_aptidao(melhor_solucao, requisicoes_turnos, n_enfermeiras, n_dias, n_turnos, max_turnos_semanais)  # Calcula a aptidão da melhor solução\n",
    "        historico_aptidao.append(melhor_aptidao)  # Adiciona a melhor aptidão ao histórico\n",
    "\n",
    "        print(f\"Geração {geracao + 1}: Aptidão = {melhor_aptidao}\")  # Imprime a geração e a melhor aptidão\n",
    "\n",
    "        if melhor_aptidao > melhor_aptidao_ate_agora:  # Verifica se a melhor aptidão melhorou\n",
    "            melhor_aptidao_ate_agora = melhor_aptidao  # Atualiza a melhor aptidão encontrada até agora\n",
    "            contador_sem_melhora = 0  # Reseta o contador de gerações sem melhora\n",
    "            geracoes_sem_melhora_migracao = 0  # Reseta o contador de gerações sem melhora para a migração\n",
    "            migracoes_realizadas = 0  # Reseta o contador de migrações\n",
    "        else:\n",
    "            contador_sem_melhora += 1  # Incrementa o contador de gerações sem melhora\n",
    "            geracoes_sem_melhora_migracao += 1  # Incrementa o contador de gerações sem melhora para a migração\n",
    "\n",
    "        if geracoes_sem_melhora_migracao >= 8:  # Verifica se é hora de realizar a migração\n",
    "            num_migrantes = int(tamanho_populacao * (0.1 + migracoes_realizadas * 0.05))  # Calcula o número de migrantes\n",
    "            num_migrantes = min(num_migrantes, tamanho_populacao)  # Garante que o número de migrantes não exceda o tamanho da população\n",
    "\n",
    "            for _ in range(num_migrantes):  # Realiza a migração\n",
    "                populacao[random.randint(0, tamanho_populacao - 1)] = criar_solucao_inicial(n_enfermeiras, n_dias, n_turnos)  # Substitui soluções aleatórias por novas soluções\n",
    "\n",
    "            geracoes_sem_melhora_migracao = 0  # Reseta o contador de gerações sem melhora para a migração\n",
    "            migracoes_realizadas += 1  # Incrementa o contador de migrações\n",
    "            print(f\"Migração realizada! Número de migrantes: {num_migrantes}\")  # Imprime informações sobre a migração\n",
    "\n",
    "        aptidao_min = min(aptidoes)  # Encontra a aptidão mínima na população\n",
    "        aptidao_max = max(aptidoes)  # Encontra a aptidão máxima na população\n",
    "        populacao = gerar_nova_populacao(populacao, aptidoes, tamanho_populacao, tamanho_torneio, n_enfermeiras, n_dias, n_turnos, aptidao_min, aptidao_max, requisicoes_turnos)  # Gera a nova população\n",
    "        geracao += 1  # Incrementa o contador de gerações\n",
    "    \n",
    "    tempo_final = time.time()  # Marca o tempo de fim da execução\n",
    "    tempo_execucao = tempo_final - tempo_inicial  # Calcula o tempo de execução\n",
    "    return melhor_solucao, melhor_aptidao, historico_aptidao, tempo_execucao  # Retorna a melhor solução, sua aptidão, o histórico de aptidões e o tempo de execução"
   ]
  },
  {
   "cell_type": "code",
   "execution_count": null,
   "metadata": {},
   "outputs": [],
   "source": [
    "# Execução do algoritmo\n",
    "melhor_solucao, melhor_aptidao, historico_aptidao, tempo_execucao_genai = algoritmo_genetico(POPULATION_SIZE, N_CONVERGENCIA, TOURNAMENT_SIZE, N_ENFERMEIRAS, N_DIAS, N_TURNOS, MAX_TURNOS_SEMANAIS, requisicoes_turnos)"
   ]
  },
  {
   "cell_type": "markdown",
   "metadata": {},
   "source": [
    "### 7. Melhor Solução Encontrada\n",
    "# \n",
    "### Exibe a melhor solução após todas as gerações."
   ]
  },
  {
   "cell_type": "code",
   "execution_count": null,
   "metadata": {},
   "outputs": [],
   "source": [
    "print(\"\\nMelhor solução encontrada:\")\n",
    "for dia in range(N_DIAS):\n",
    "    print(f\"Dia {dia}: {melhor_solucao[dia]}\")\n",
    "print(f\"Aptidão da melhor solução: {melhor_aptidao}\")\n",
    "print(f\"Tempo de execução do algoritmo genético: {tempo_execucao_genai:.4f} segundos\")"
   ]
  },
  {
   "cell_type": "code",
   "execution_count": null,
   "metadata": {},
   "outputs": [],
   "source": [
    "print(calcular_aptidao_detalhada(melhor_solucao, requisicoes_turnos, N_ENFERMEIRAS, N_DIAS, N_TURNOS, MAX_TURNOS_SEMANAIS))"
   ]
  },
  {
   "cell_type": "code",
   "execution_count": null,
   "metadata": {},
   "outputs": [],
   "source": [
    "# Visualização do progresso\n",
    "def plotar_evolucao(historico_aptidao):\n",
    "    plt.figure(figsize=(10, 5))\n",
    "    plt.plot(historico_aptidao, label='Melhor Aptidão', color='blue')\n",
    "    plt.xlabel('Geração')\n",
    "    plt.ylabel('Aptidão')\n",
    "    plt.title('Evolução da Aptidão ao Longo das Gerações')\n",
    "    plt.legend()\n",
    "    plt.grid()\n",
    "    plt.show()\n",
    "\n",
    "plotar_evolucao(historico_aptidao)"
   ]
  },
  {
   "cell_type": "markdown",
   "metadata": {},
   "source": [
    "### 8. Comparação do algoritmo desenvolvido com um algoritmo de força bruta\n",
    "#\n",
    "### Este trecho de código compara o desempenho de dois algoritmos para resolver um problema de alocação de enfermeiras: um algoritmo de força bruta e um algoritmo genético."
   ]
  },
  {
   "cell_type": "markdown",
   "metadata": {},
   "source": [
    "#### Número de Possibilidades no Método de Força Bruta\n",
    "\n",
    "**Fórmula Geral:**\n",
    "\n",
    "```\n",
    "Possibilidades = (n_enfermeiras)^(n_dias * n_turnos)\n",
    "```\n",
    "\n",
    "**Exemplos:**\n",
    "\n",
    "1.  **n_enfermeiras = 4, n_dias = 4, n_turnos = 4**\n",
    "\n",
    "    * Possibilidades = 4^(4 \\* 4) = 4^16 = 4.294.967.296\n",
    "\n",
    "2.  **n_enfermeiras = 3, n_dias = 3, n_turnos = 3**\n",
    "\n",
    "    * Possibilidades = 3^(3 \\* 3) = 3^9 = 19.683\n",
    "\n",
    "**Conclusão:**\n",
    "\n",
    "O número de soluções cresce exponencialmente, tornando a força bruta inviável para problemas maiores.\n"
   ]
  },
  {
   "cell_type": "code",
   "execution_count": null,
   "metadata": {},
   "outputs": [],
   "source": [
    "def forca_bruta(requisicoes_turnos, n_enfermeiras, n_dias, n_turnos, max_turnos_semanais, aptidao_alvo):\n",
    "    \"\"\"Resolve o problema de alocação de enfermeiras usando força bruta.\"\"\"\n",
    "\n",
    "    melhor_solucao = None  # Inicializa a melhor solução encontrada\n",
    "    melhor_aptidao = float(\"-inf\")  # Inicializa a melhor aptidão encontrada\n",
    "    tempo_inicial = time.time()  # Marca o tempo de início da execução\n",
    "\n",
    "    # Gera todas as combinações possíveis\n",
    "    for solucao in itertools.product(range(n_enfermeiras), repeat=n_dias * n_turnos):\n",
    "        solucao_matriz = [\n",
    "            list(solucao[i * n_turnos : (i + 1) * n_turnos]) for i in range(n_dias)\n",
    "        ]  # Converte a solução linear em uma matriz de dias x turnos\n",
    "        aptidao = calcular_aptidao(\n",
    "            solucao_matriz,\n",
    "            requisicoes_turnos,\n",
    "            n_enfermeiras,\n",
    "            n_dias,\n",
    "            n_turnos,\n",
    "            max_turnos_semanais,\n",
    "        )  # Calcula a aptidão da solução\n",
    "\n",
    "        if aptidao > melhor_aptidao:  # Verifica se a aptidão é melhor que a melhor aptidão encontrada\n",
    "            melhor_aptidao = aptidao  # Atualiza a melhor aptidão\n",
    "            melhor_solucao = solucao_matriz  # Atualiza a melhor solução\n",
    "            \n",
    "        if aptidao >= aptidao_alvo:  # Verifica se a aptidão atingiu o alvo\n",
    "            tempo_final = time.time()  # Marca o tempo de fim da execução\n",
    "            tempo_execucao = tempo_final - tempo_inicial  # Calcula o tempo de execução\n",
    "            return melhor_solucao, aptidao, tempo_execucao  # Retorna a melhor solução, aptidão e tempo de execução\n",
    "\n",
    "    tempo_final = time.time()  # Marca o tempo de fim da execução\n",
    "    tempo_execucao = tempo_final - tempo_inicial  # Calcula o tempo de execução\n",
    "\n",
    "    return melhor_solucao, melhor_aptidao, tempo_execucao  # Retorna a melhor solução, aptidão e tempo de execução"
   ]
  },
  {
   "cell_type": "code",
   "execution_count": null,
   "metadata": {},
   "outputs": [],
   "source": [
    "# Variáveis para armazenar os tempos de execução\n",
    "tempos_forca_bruta = []  # Lista para armazenar os tempos de execução do algoritmo de força bruta\n",
    "tempos_genetico = []  # Lista para armazenar os tempos de execução do algoritmo genético\n",
    "diferenca_tempos = []  # Lista para armazenar as diferenças de tempo entre os algoritmos"
   ]
  },
  {
   "cell_type": "code",
   "execution_count": null,
   "metadata": {},
   "outputs": [],
   "source": [
    "random.seed(42)\n",
    "np.random.seed(42)\n",
    "\n",
    "# Variação dos parâmetros (N_ENFERMEIRAS, N_DIAS e N_TURNOS)\n",
    "valores_parametros = range(1, 8)  # Define um intervalo de valores para os parâmetros (de 1 a 4)\n",
    "\n",
    "for valor in valores_parametros:  # Loop para iterar sobre os valores dos parâmetros\n",
    "    # Ajuste dos parâmetros para a iteração atual\n",
    "    print(valor)  # Imprime o valor atual dos parâmetros\n",
    "    n_enfermeiras = valor  # Define o número de enfermeiras\n",
    "    n_dias = valor  # Define o número de dias\n",
    "    n_turnos = valor  # Define o número de turnos\n",
    "\n",
    "    if valor >= 4: # redução da quantidade de possibilidades para não exigir muito tempo do computador\n",
    "         n_dias = 3\n",
    "         n_turnos =3\n",
    "\n",
    "    n_convergencia = min(20, int(n_dias * 1.5))  # Define o número de gerações para convergência no algoritmo genético\n",
    "    population_size = min(1000, 100 * n_dias + 10 * n_enfermeiras + 50 * n_turnos)  # Define o tamanho da população no algoritmo genético\n",
    "    tournament_size = max(2, int(0.02 * population_size))  # Define o tamanho do torneio no algoritmo genético\n",
    "\n",
    "    # Criação de dados de exemplo para requisicoes_turnos, garantindo variação com os parâmetros\n",
    "    requisicoes_turnos = gerar_requisicoes_turnos(n_enfermeiras, n_dias, n_turnos)  # Gera as requisições de turnos\n",
    "\n",
    "    # Algoritmo Genético\n",
    "    tempo_inicial_genetico = time.time()  # Marca o tempo de início do algoritmo genético\n",
    "    melhor_solucao_genetico, melhor_aptidao_genetico, historico_aptidao_genetico, tempo_genetico = algoritmo_genetico(\n",
    "    population_size, n_convergencia, tournament_size, n_enfermeiras, n_dias, n_turnos, MAX_TURNOS_SEMANAIS, requisicoes_turnos)  # Executa o algoritmo genético\n",
    "    tempo_final_genetico = time.time()  # Marca o tempo de fim do algoritmo genético\n",
    "    tempo_genetico_exec = tempo_final_genetico - tempo_inicial_genetico  # Calcula o tempo de execução do algoritmo genético\n",
    "    tempos_genetico.append(tempo_genetico_exec)  # Armazena o tempo de execução do algoritmo genético\n",
    "\n",
    "    # Força Bruta\n",
    "    tempo_inicial_forca_bruta = time.time()  # Marca o tempo de início do algoritmo de força bruta\n",
    "    melhor_solucao_forca_bruta, melhor_aptidao_forca_bruta, tempo_forca_bruta = forca_bruta(\n",
    "        requisicoes_turnos, n_enfermeiras, n_dias, n_turnos, MAX_TURNOS_SEMANAIS, melhor_aptidao_genetico)  # Executa o algoritmo de força bruta\n",
    "    tempo_final_forca_bruta = time.time()  # Marca o tempo de fim do algoritmo de força bruta\n",
    "    tempo_forca_bruta_exec = tempo_final_forca_bruta - tempo_inicial_forca_bruta  # Calcula o tempo de execução do algoritmo de força bruta\n",
    "    tempos_forca_bruta.append(tempo_forca_bruta_exec)  # Armazena o tempo de execução do algoritmo de força bruta\n",
    "\n",
    "    # Cálculo da diferença de tempos\n",
    "    diferenca = tempo_forca_bruta_exec - tempo_genetico_exec  # Calcula a diferença de tempo entre os algoritmos\n",
    "    diferenca_tempos.append(diferenca)  # Armazena a diferença de tempo"
   ]
  },
  {
   "cell_type": "code",
   "execution_count": null,
   "metadata": {},
   "outputs": [],
   "source": [
    "# Impressão dos valores da diferença de tempo com melhor formatação\n",
    "print(\"Diferenças de Tempo (Força Bruta - Genético):\")  # Imprime um cabeçalho informativo\n",
    "for i, diferenca in enumerate(diferenca_tempos):  # Loop para iterar sobre as diferenças de tempo\n",
    "    tempo_forca_bruta = tempos_forca_bruta[i]  # Obtém o tempo de execução do algoritmo de força bruta\n",
    "    tempo_genetico = tempos_genetico[i]  # Obtém o tempo de execução do algoritmo genético\n",
    "    print(f\"Parâmetros: {valores_parametros[i]}:\")  # Imprime o valor dos parâmetros\n",
    "    print(f\"  Força Bruta: {tempo_forca_bruta:.4f} segundos\")  # Imprime o tempo de execução do algoritmo de força bruta\n",
    "    print(f\"  Genético: {tempo_genetico:.4f} segundos\")  # Imprime o tempo de execução do algoritmo genético\n",
    "    print(f\"  Diferença: {diferenca:.4f} segundos\")  # Imprime a diferença de tempo entre os algoritmos\n",
    "    print(\"-\" * 30)  # Imprime um separador para melhor visualização"
   ]
  },
  {
   "cell_type": "markdown",
   "metadata": {},
   "source": [
    "# Análises de Resultados:\n",
    "\n",
    "- Comparação realizada com mesma semente aleatória e valor de aptidão.\n",
    "\n",
    "## Resultados Principais:\n",
    "\n",
    "- Problemas Pequenos (Parâmetros 1 e 2):\n",
    "    - Força bruta executa quase instantaneamente.\n",
    "    - Algoritmo genético tem sobrecarga inicial, sendo mais lento.\n",
    "- Problemas Médios a Grandes (Parâmetros 3+):\n",
    "    - Tempo da força bruta cresce exponencialmente.\n",
    "    - Algoritmo genético mantém tempo de execução estável.\n",
    "    - Diferença de tempo aumenta drasticamente, favorecendo o genético.\n",
    "- Escalabilidade:\n",
    "    - Algoritmo genético é significativamente mais escalável."
   ]
  },
  {
   "cell_type": "code",
   "execution_count": null,
   "metadata": {},
   "outputs": [],
   "source": [
    "# Visualização dos resultados em um gráfico\n",
    "plt.figure(figsize=(10, 6))\n",
    "plt.plot(valores_parametros, tempos_forca_bruta, label='Força Bruta', marker='o')\n",
    "plt.plot(valores_parametros, tempos_genetico, label='Genético', marker='x')\n",
    "plt.xlabel('Valor dos Parâmetros (Enfermeiras, Dias, Turnos)')\n",
    "plt.ylabel('Tempo de Execução (segundos)')\n",
    "plt.title('Comparação de Tempos de Execução')\n",
    "plt.legend()\n",
    "plt.grid(True)\n",
    "plt.show()"
   ]
  },
  {
   "cell_type": "markdown",
   "metadata": {},
   "source": [
    "# Conclusões:\n",
    "\n",
    "- O algoritmo genético implementado demonstra ser eficaz na resolução do problema de alocação de enfermeiras.\n",
    "- A combinação de estratégias de inicialização e operadores genéticos contribui para a qualidade da solução.\n",
    "- O algoritmo genético se mostrou muito mais eficiente que o algoritmo de força bruta, dado o tempo de execução e a qualidade de resultados.\n",
    "- O algoritmo genético fornece uma solução de alta qualidade em um tempo razoável.\n",
    "- O código fornece uma base sólida para futuras melhorias e adaptações a diferentes cenários de alocação de enfermeiras."
   ]
  },
  {
   "cell_type": "markdown",
   "metadata": {},
   "source": [
    "# Possíveis Melhorias:\n",
    "\n",
    "- Implementar restrições mais complexas.\n",
    "- Ter liberdade para ter mais de uma enfermeira por turno e poder relacionar a quantidade de enfermeiras com a quantidade de pacientes.\n",
    "- Adaptar o algoritmo para lidar com mudanças dinâmicas na demanda por turnos.\n",
    "- Implementar a possibilidade de mutações mais agressivas para testar os resultados\n",
    "- Explorar diferentes estratégias de crossover e mutação para melhorar o desempenho.\n",
    "- Implementar uma interface gráfica para facilitar a visualização e edição dos cronogramas."
   ]
  }
 ],
 "metadata": {
  "kernelspec": {
   "display_name": "venv",
   "language": "python",
   "name": "python3"
  },
  "language_info": {
   "codemirror_mode": {
    "name": "ipython",
    "version": 3
   },
   "file_extension": ".py",
   "mimetype": "text/x-python",
   "name": "python",
   "nbconvert_exporter": "python",
   "pygments_lexer": "ipython3",
   "version": "3.12.9"
  }
 },
 "nbformat": 4,
 "nbformat_minor": 2
}
